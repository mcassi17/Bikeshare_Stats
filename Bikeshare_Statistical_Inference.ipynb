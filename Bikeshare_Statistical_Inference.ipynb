{
 "cells": [
  {
   "cell_type": "code",
   "execution_count": 4,
   "metadata": {
    "collapsed": true
   },
   "outputs": [],
   "source": [
    "import pandas as pd\n",
    "import numpy as np\n",
    "import matplotlib.pyplot as plt\n",
    "from datetime import datetime \n",
    "import seaborn as sb\n",
    "import scipy.stats as stat\n",
    "%matplotlib inline\n",
    "import random"
   ]
  },
  {
   "cell_type": "code",
   "execution_count": 3,
   "metadata": {
    "collapsed": true
   },
   "outputs": [],
   "source": [
    "bikeshare = pd.read_csv('bikeshare_reduced.csv', \n",
    "                        parse_dates=['Start date', 'End date', 'start_date_short', 'end_date_short'])\n",
    "bikeshare.drop('Unnamed: 0', 1, inplace=True)"
   ]
  },
  {
   "cell_type": "markdown",
   "metadata": {},
   "source": [
    "## Registered Riders vs Casual Riders"
   ]
  },
  {
   "cell_type": "code",
   "execution_count": 20,
   "metadata": {},
   "outputs": [
    {
     "name": "stdout",
     "output_type": "stream",
     "text": [
      "The difference the ride times for casual riders and the registered riders is 13.73 minutes.\n"
     ]
    }
   ],
   "source": [
    "casual = bikeshare[bikeshare['Member Type'] == 'Casual']['time_diff']\n",
    "registered = bikeshare[bikeshare['Member Type'] == 'Registered']['time_diff']\n",
    "casual_mean = np.mean(casual)\n",
    "registered_mean = np.mean(registered)\n",
    "difference = casual_mean - registered_mean\n",
    "print('The difference the ride times for casual riders and the registered riders is ' + str(round(difference, 2)) + ' minutes.')"
   ]
  },
  {
   "cell_type": "markdown",
   "metadata": {},
   "source": [
    "The differences between the means are 13.73 minutes. Knowing that, we'll need to do a hypothesis test to determine is this difference was due to random chance or if they are actually different.\n",
    "<br>\n",
    "Null Hypothesis: The differences in ride time means between Registered Riders and Casual Riders are equal.\n",
    "<br>\n",
    "Alternative Hypothesis: The difference in ride time means between Registered Riders and Casual Riders are different.\n",
    "<br>\n",
    "Significance: 0.05"
   ]
  },
  {
   "cell_type": "code",
   "execution_count": 8,
   "metadata": {},
   "outputs": [
    {
     "data": {
      "text/plain": [
       "0.0"
      ]
     },
     "execution_count": 8,
     "metadata": {},
     "output_type": "execute_result"
    }
   ],
   "source": [
    "time_test = stat.ttest_ind(casual, registered, equal_var=False)\n",
    "p_val = time_test[1]\n",
    "printp_val"
   ]
  },
  {
   "cell_type": "markdown",
   "metadata": {},
   "source": [
    "With this result (p-value < 0.00001), we can reject the null hypothesis that the two means between registered riders and casual riders are equal. We can argue that the means are different and that the type of rider effects the ride time."
   ]
  },
  {
   "cell_type": "markdown",
   "metadata": {},
   "source": [
    "## Seasonal Ride Times"
   ]
  },
  {
   "cell_type": "code",
   "execution_count": 13,
   "metadata": {},
   "outputs": [
    {
     "data": {
      "text/plain": [
       "0.0"
      ]
     },
     "execution_count": 13,
     "metadata": {},
     "output_type": "execute_result"
    }
   ],
   "source": [
    "spring = bikeshare[bikeshare['season'] == 1]['time_diff']\n",
    "summer = bikeshare[bikeshare['season'] == 2]['time_diff']\n",
    "fall = bikeshare[bikeshare['season'] == 3]['time_diff']\n",
    "winter = bikeshare[bikeshare['season'] == 4]['time_diff']\n",
    "\n",
    "season = stat.f_oneway(spring, summer, fall, winter)\n",
    "p_val_season = season[1]\n",
    "p_val_season"
   ]
  },
  {
   "cell_type": "code",
   "execution_count": 14,
   "metadata": {},
   "outputs": [
    {
     "name": "stdout",
     "output_type": "stream",
     "text": [
      "0.0\n",
      "0.0\n",
      "2.78861876229e-272\n",
      "2.01962674215e-48\n",
      "0.0\n",
      "0.0\n"
     ]
    }
   ],
   "source": [
    "spring_summer = stat.ttest_ind(spring, summer, equal_var=False)\n",
    "spring_summer_p = spring_summer[1]\n",
    "\n",
    "spring_fall = stat.ttest_ind(spring, fall, equal_var=False)\n",
    "spring_fall_p = spring_fall[1]\n",
    "\n",
    "spring_winter = stat.ttest_ind(spring, winter, equal_var=False)\n",
    "spring_winter_p = spring_winter[1]\n",
    "\n",
    "summer_fall = stat.ttest_ind(summer, fall, equal_var=False)\n",
    "summer_fall_p = summer_fall[1]\n",
    "\n",
    "summer_winter = stat.ttest_ind(summer, winter, equal_var=False)\n",
    "summer_winter_p = summer_winter[1]\n",
    "\n",
    "fall_winter = stat.ttest_ind(fall, winter, equal_var=False)\n",
    "fall_winter_p = fall_winter[1]\n",
    "\n",
    "print(spring_summer_p)\n",
    "print(spring_fall_p)\n",
    "print(spring_winter_p)\n",
    "print(summer_fall_p)\n",
    "print(summer_winter_p)\n",
    "print(fall_winter_p)"
   ]
  },
  {
   "cell_type": "markdown",
   "metadata": {},
   "source": [
    "# Seasonal Ride Times: Casual vs Registered"
   ]
  },
  {
   "cell_type": "code",
   "execution_count": 17,
   "metadata": {},
   "outputs": [
    {
     "name": "stdout",
     "output_type": "stream",
     "text": [
      "0.0\n",
      "0.0\n",
      "0.0\n",
      "0.0\n"
     ]
    }
   ],
   "source": [
    "casual_spring = bikeshare[(bikeshare['Member Type'] == 'Casual') & (bikeshare['season'] == 1)]['time_diff']\n",
    "casual_summer = bikeshare[(bikeshare['Member Type'] == 'Casual') & (bikeshare['season'] == 2)]['time_diff']\n",
    "casual_fall = bikeshare[(bikeshare['Member Type'] == 'Casual') & (bikeshare['season'] == 3)]['time_diff']\n",
    "casual_winter = bikeshare[(bikeshare['Member Type'] == 'Casual') & (bikeshare['season'] == 4)]['time_diff']\n",
    "registered_spring = bikeshare[(bikeshare['Member Type'] == 'Registered') & (bikeshare['season'] == 1)]['time_diff']\n",
    "registered_summer = bikeshare[(bikeshare['Member Type'] == 'Registered') & (bikeshare['season'] == 2)]['time_diff']\n",
    "registered_fall = bikeshare[(bikeshare['Member Type'] == 'Registered') & (bikeshare['season'] == 3)]['time_diff']\n",
    "registered_winter = bikeshare[(bikeshare['Member Type'] == 'Registered') & (bikeshare['season'] == 4)]['time_diff']\n",
    "\n",
    "reg_cas_spring = stat.ttest_ind(casual_spring, registered_spring, equal_var=False)\n",
    "reg_cas_spring_p = reg_cas_spring[1]\n",
    "\n",
    "reg_cas_summer = stat.ttest_ind(casual_summer, registered_summer, equal_var=False)\n",
    "reg_cas_summer_p = reg_cas_summer[1]\n",
    "\n",
    "reg_cas_fall = stat.ttest_ind(casual_fall, registered_fall, equal_var=False)\n",
    "reg_cas_fall_p = reg_cas_fall[1]\n",
    "\n",
    "reg_cas_winter = stat.ttest_ind(casual_winter, registered_winter, equal_var=False)\n",
    "reg_cas_winter_p = reg_cas_winter[1]\n",
    "\n",
    "print(reg_cas_spring_p)\n",
    "print(reg_cas_summer_p)\n",
    "print(reg_cas_fall_p)\n",
    "print(reg_cas_winter_p)"
   ]
  },
  {
   "cell_type": "markdown",
   "metadata": {},
   "source": [
    "## Weather Category"
   ]
  },
  {
   "cell_type": "code",
   "execution_count": 24,
   "metadata": {
    "collapsed": true
   },
   "outputs": [],
   "source": [
    "sunny = bikeshare[bikeshare['weathersit'] == 1]['time_diff']\n",
    "less_sunny = bikeshare[bikeshare['weathersit'] == 2]['time_diff']\n",
    "lousy = bikeshare[bikeshare['weathersit'] == 3]['time_diff']"
   ]
  },
  {
   "cell_type": "code",
   "execution_count": 25,
   "metadata": {},
   "outputs": [
    {
     "data": {
      "text/plain": [
       "0.0"
      ]
     },
     "execution_count": 25,
     "metadata": {},
     "output_type": "execute_result"
    }
   ],
   "source": [
    "weather_anova = stat.f_oneway(sunny, less_sunny, lousy)\n",
    "weather_anova_p = weather_anova[1]\n",
    "weather_anova_p"
   ]
  },
  {
   "cell_type": "code",
   "execution_count": 26,
   "metadata": {},
   "outputs": [
    {
     "name": "stdout",
     "output_type": "stream",
     "text": [
      "2.80975478368e-185\n",
      "0.0\n",
      "0.0\n"
     ]
    }
   ],
   "source": [
    "sunny_less = stat.ttest_ind(sunny, less_sunny, equal_var=False)\n",
    "sunny_less_p = sunny_less[1]\n",
    "\n",
    "sunny_lousy = stat.ttest_ind(sunny, lousy, equal_var=False)\n",
    "sunny_lousy_p = sunny_lousy[1]\n",
    "\n",
    "less_lousy = stat.ttest_ind(less_sunny, lousy, equal_var=False)\n",
    "less_lousy_p = less_lousy[1]\n",
    "\n",
    "print(sunny_less_p)\n",
    "print(sunny_lousy_p)\n",
    "print(less_lousy_p)"
   ]
  },
  {
   "cell_type": "markdown",
   "metadata": {},
   "source": [
    "## Weather Category: Casual vs Registered"
   ]
  },
  {
   "cell_type": "code",
   "execution_count": 31,
   "metadata": {},
   "outputs": [],
   "source": [
    "sunny_casual = bikeshare[(bikeshare['weathersit'] == 1) & (bikeshare['Member Type'] == 'Casual')]['time_diff']\n",
    "sunny_reg = bikeshare[(bikeshare['weathersit'] == 1) & (bikeshare['Member Type'] == 'Registered')]['time_diff']\n",
    "\n",
    "less_casual = bikeshare[(bikeshare['weathersit'] == 2) & (bikeshare['Member Type'] == 'Casual')]['time_diff']\n",
    "less_reg = bikeshare[(bikeshare['weathersit'] == 2) & (bikeshare['Member Type'] == 'Registered')]['time_diff']\n",
    "\n",
    "lousy_casual = bikeshare[(bikeshare['weathersit'] == 3) & (bikeshare['Member Type'] == 'Casual')]['time_diff']\n",
    "lousy_reg = bikeshare[(bikeshare['weathersit'] == 3) & (bikeshare['Member Type'] == 'Registered')]['time_diff']"
   ]
  },
  {
   "cell_type": "code",
   "execution_count": 32,
   "metadata": {},
   "outputs": [
    {
     "name": "stdout",
     "output_type": "stream",
     "text": [
      "0.0\n",
      "0.0\n",
      "8.05155049416e-105\n"
     ]
    }
   ],
   "source": [
    "sunny_diff = stat.ttest_ind(sunny_casual, sunny_reg, equal_var=False)\n",
    "sunny_diff_p = sunny_diff[1]\n",
    "\n",
    "less_diff = stat.ttest_ind(less_casual, less_reg, equal_var=False)\n",
    "less_diff_p = less_diff[1]\n",
    "\n",
    "lousy_diff = stat.ttest_ind(lousy_casual, lousy_reg, equal_var=False)\n",
    "lousy_diff_p = lousy_diff[1]\n",
    "\n",
    "print(sunny_diff_p)\n",
    "print(less_diff_p)\n",
    "print(lousy_diff_p)"
   ]
  },
  {
   "cell_type": "markdown",
   "metadata": {},
   "source": [
    "## Holiday"
   ]
  },
  {
   "cell_type": "code",
   "execution_count": 35,
   "metadata": {},
   "outputs": [],
   "source": [
    "no_holiday = bikeshare[bikeshare['holiday'] == 0]['time_diff']\n",
    "holiday = bikeshare[bikeshare['holiday'] == 1]['time_diff']\n",
    "\n"
   ]
  },
  {
   "cell_type": "code",
   "execution_count": 36,
   "metadata": {},
   "outputs": [
    {
     "name": "stdout",
     "output_type": "stream",
     "text": [
      "5.94089337013e-98\n"
     ]
    }
   ],
   "source": [
    "holiday_t = stat.ttest_ind(no_holiday, holiday, equal_var=False)\n",
    "holiday_t_p = holiday_t[1]\n",
    "print(holiday_t_p)"
   ]
  },
  {
   "cell_type": "markdown",
   "metadata": {},
   "source": [
    "## Holiday: Casual vs Registered"
   ]
  },
  {
   "cell_type": "code",
   "execution_count": 38,
   "metadata": {},
   "outputs": [],
   "source": [
    "no_hol_cas = bikeshare[(bikeshare['holiday'] == 0) & (bikeshare['Member Type'] == 'Casual')]['time_diff']\n",
    "no_hol_reg = bikeshare[(bikeshare['holiday'] == 0) & (bikeshare['Member Type'] == 'Registered')]['time_diff']\n",
    "hol_cas = bikeshare[(bikeshare['holiday'] == 1) & (bikeshare['Member Type'] == 'Casual')]['time_diff']\n",
    "hol_reg = bikeshare[(bikeshare['holiday'] == 1) & (bikeshare['Member Type'] == 'Registered')]['time_diff']"
   ]
  },
  {
   "cell_type": "code",
   "execution_count": 39,
   "metadata": {},
   "outputs": [
    {
     "name": "stdout",
     "output_type": "stream",
     "text": [
      "0.0\n",
      "0.0\n"
     ]
    }
   ],
   "source": [
    "no_hol_t = stat.ttest_ind(no_hol_cas, no_hol_reg, equal_var=False)\n",
    "no_hol_t_p = no_hol_t[1]\n",
    "\n",
    "hol_t = stat.ttest_ind(hol_cas, hol_reg, equal_var=False)\n",
    "hol_t_p = hol_t[1]\n",
    "\n",
    "print(no_hol_t_p)\n",
    "print(hol_t_p)"
   ]
  },
  {
   "cell_type": "markdown",
   "metadata": {},
   "source": [
    "## Workday"
   ]
  },
  {
   "cell_type": "code",
   "execution_count": 42,
   "metadata": {},
   "outputs": [],
   "source": [
    "workday = bikeshare[bikeshare['workingday'] == 1]['time_diff']\n",
    "no_workday = bikeshare[bikeshare['workingday'] == 0]['time_diff']\n"
   ]
  },
  {
   "cell_type": "code",
   "execution_count": 44,
   "metadata": {},
   "outputs": [
    {
     "name": "stdout",
     "output_type": "stream",
     "text": [
      "0.0\n"
     ]
    }
   ],
   "source": [
    "workday_t = stat.ttest_ind(workday, no_workday, equal_var=False)\n",
    "workday_t_p = workday_t[1]\n",
    "\n",
    "print(workday_t_p)"
   ]
  },
  {
   "cell_type": "code",
   "execution_count": null,
   "metadata": {
    "collapsed": true
   },
   "outputs": [],
   "source": []
  },
  {
   "cell_type": "markdown",
   "metadata": {},
   "source": [
    "## Workday: Registered vs Casual"
   ]
  },
  {
   "cell_type": "code",
   "execution_count": 47,
   "metadata": {
    "collapsed": true
   },
   "outputs": [],
   "source": [
    "no_work_cas = bikeshare[(bikeshare['workingday'] == 0) & (bikeshare['Member Type'] == 'Casual')]['time_diff']\n",
    "no_work_reg = bikeshare[(bikeshare['workingday'] == 0) & (bikeshare['Member Type'] == 'Registered')]['time_diff']\n",
    "work_cas = bikeshare[(bikeshare['workingday'] == 1) & (bikeshare['Member Type'] == 'Casual')]['time_diff']\n",
    "work_reg = bikeshare[(bikeshare['workingday'] == 1) & (bikeshare['Member Type'] == 'Registered')]['time_diff']"
   ]
  },
  {
   "cell_type": "code",
   "execution_count": 48,
   "metadata": {},
   "outputs": [
    {
     "name": "stdout",
     "output_type": "stream",
     "text": [
      "0.0\n",
      "0.0\n"
     ]
    }
   ],
   "source": [
    "no_working = stat.ttest_ind(no_work_cas, no_work_reg, equal_var=False)\n",
    "no_working_p = no_working[1]\n",
    "\n",
    "working_t = stat.ttest_ind(work_cas, work_reg, equal_var=False)\n",
    "working_t_p = working_t[1]\n",
    "\n",
    "print(no_working_p)\n",
    "print(working_t_p)"
   ]
  },
  {
   "cell_type": "markdown",
   "metadata": {},
   "source": [
    "## Ride Times vs. Temperature"
   ]
  },
  {
   "cell_type": "code",
   "execution_count": 52,
   "metadata": {},
   "outputs": [
    {
     "data": {
      "text/plain": [
       "0.095882386933345623"
      ]
     },
     "execution_count": 52,
     "metadata": {},
     "output_type": "execute_result"
    }
   ],
   "source": [
    "time_temp = np.corrcoef(bikeshare['temp'], bikeshare['time_diff'])\n",
    "time_temp[0,1]"
   ]
  },
  {
   "cell_type": "code",
   "execution_count": 55,
   "metadata": {
    "collapsed": true
   },
   "outputs": [],
   "source": [
    "casual_corr = bikeshare[bikeshare['Member Type'] == 'Casual']\n",
    "registered_corr = bikeshare[bikeshare['Member Type'] == 'Registered']"
   ]
  },
  {
   "cell_type": "code",
   "execution_count": 56,
   "metadata": {},
   "outputs": [
    {
     "data": {
      "text/plain": [
       "0.0076346430014268855"
      ]
     },
     "execution_count": 56,
     "metadata": {},
     "output_type": "execute_result"
    }
   ],
   "source": [
    "time_temp_cas = np.corrcoef(casual_corr['temp'], casual_corr['time_diff'])\n",
    "time_temp_cas[0,1]"
   ]
  },
  {
   "cell_type": "code",
   "execution_count": 57,
   "metadata": {},
   "outputs": [
    {
     "data": {
      "text/plain": [
       "0.083729130500907911"
      ]
     },
     "execution_count": 57,
     "metadata": {},
     "output_type": "execute_result"
    }
   ],
   "source": [
    "time_temp_reg = np.corrcoef(registered_corr['temp'], registered_corr['time_diff'])\n",
    "time_temp_reg[0,1]"
   ]
  },
  {
   "cell_type": "markdown",
   "metadata": {},
   "source": [
    "## Ride Times vs. Humidity"
   ]
  },
  {
   "cell_type": "code",
   "execution_count": 53,
   "metadata": {},
   "outputs": [
    {
     "data": {
      "text/plain": [
       "0.008031838150257169"
      ]
     },
     "execution_count": 53,
     "metadata": {},
     "output_type": "execute_result"
    }
   ],
   "source": [
    "time_hum = np.corrcoef(bikeshare['hum'], bikeshare['time_diff'])\n",
    "time_hum[0,1]"
   ]
  },
  {
   "cell_type": "code",
   "execution_count": 58,
   "metadata": {},
   "outputs": [
    {
     "data": {
      "text/plain": [
       "-0.0041247100896568334"
      ]
     },
     "execution_count": 58,
     "metadata": {},
     "output_type": "execute_result"
    }
   ],
   "source": [
    "time_hum_cas = np.corrcoef(casual_corr['hum'], casual_corr['time_diff'])\n",
    "time_hum_cas[0,1]"
   ]
  },
  {
   "cell_type": "code",
   "execution_count": 59,
   "metadata": {},
   "outputs": [
    {
     "data": {
      "text/plain": [
       "0.0018546164180973683"
      ]
     },
     "execution_count": 59,
     "metadata": {},
     "output_type": "execute_result"
    }
   ],
   "source": [
    "time_hum_reg = np.corrcoef(registered_corr['hum'], registered_corr['time_diff'])\n",
    "time_hum_reg[0,1]"
   ]
  },
  {
   "cell_type": "markdown",
   "metadata": {},
   "source": [
    "## Ride Times vs Wind Speed"
   ]
  },
  {
   "cell_type": "code",
   "execution_count": 54,
   "metadata": {},
   "outputs": [
    {
     "data": {
      "text/plain": [
       "-0.031826321312461395"
      ]
     },
     "execution_count": 54,
     "metadata": {},
     "output_type": "execute_result"
    }
   ],
   "source": [
    "time_wind = np.corrcoef(bikeshare['windspeed'], bikeshare['time_diff'])\n",
    "time_wind[0,1]"
   ]
  },
  {
   "cell_type": "code",
   "execution_count": 60,
   "metadata": {},
   "outputs": [
    {
     "data": {
      "text/plain": [
       "-0.011978496978161309"
      ]
     },
     "execution_count": 60,
     "metadata": {},
     "output_type": "execute_result"
    }
   ],
   "source": [
    "time_wind_cas = np.corrcoef(casual_corr['windspeed'], casual_corr['time_diff'])\n",
    "time_wind_cas[0,1]"
   ]
  },
  {
   "cell_type": "code",
   "execution_count": 61,
   "metadata": {},
   "outputs": [
    {
     "data": {
      "text/plain": [
       "-0.01943016317449368"
      ]
     },
     "execution_count": 61,
     "metadata": {},
     "output_type": "execute_result"
    }
   ],
   "source": [
    "time_wind_reg = np.corrcoef(registered_corr['windspeed'], registered_corr['time_diff'])\n",
    "time_wind_reg[0,1]"
   ]
  },
  {
   "cell_type": "code",
   "execution_count": null,
   "metadata": {
    "collapsed": true
   },
   "outputs": [],
   "source": []
  }
 ],
 "metadata": {
  "kernelspec": {
   "display_name": "Python 3",
   "language": "python",
   "name": "python3"
  },
  "language_info": {
   "codemirror_mode": {
    "name": "ipython",
    "version": 3
   },
   "file_extension": ".py",
   "mimetype": "text/x-python",
   "name": "python",
   "nbconvert_exporter": "python",
   "pygments_lexer": "ipython3",
   "version": "3.6.1"
  }
 },
 "nbformat": 4,
 "nbformat_minor": 2
}

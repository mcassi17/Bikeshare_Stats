{
 "cells": [
  {
   "cell_type": "code",
   "execution_count": 1,
   "metadata": {
    "collapsed": true
   },
   "outputs": [],
   "source": [
    "import pandas as pd\n",
    "import numpy as np\n",
    "import matplotlib.pyplot as plt\n",
    "from datetime import datetime \n",
    "import seaborn as sb\n",
    "import scipy.stats as stat\n",
    "%matplotlib inline\n",
    "import random"
   ]
  },
  {
   "cell_type": "code",
   "execution_count": 2,
   "metadata": {
    "collapsed": true
   },
   "outputs": [],
   "source": [
    "bikeshare = pd.read_csv('bikeshare_reduced.csv', \n",
    "                        parse_dates=['Start date', 'End date', 'start_date_short', 'end_date_short'])\n",
    "bikeshare.drop('Unnamed: 0', 1, inplace=True)"
   ]
  },
  {
   "cell_type": "markdown",
   "metadata": {},
   "source": [
    "## Registered Riders vs Casual Riders"
   ]
  },
  {
   "cell_type": "code",
   "execution_count": 3,
   "metadata": {},
   "outputs": [
    {
     "name": "stdout",
     "output_type": "stream",
     "text": [
      "The difference the ride times for casual riders and the registered riders is 13.73 minutes.\n"
     ]
    }
   ],
   "source": [
    "casual = bikeshare[bikeshare['Member Type'] == 'Casual']['time_diff']\n",
    "registered = bikeshare[bikeshare['Member Type'] == 'Registered']['time_diff']\n",
    "casual_mean = np.mean(casual)\n",
    "registered_mean = np.mean(registered)\n",
    "difference = casual_mean - registered_mean\n",
    "print('The difference the ride times for casual riders and the registered riders is ' + str(round(difference, 2)) + ' minutes.')"
   ]
  },
  {
   "cell_type": "markdown",
   "metadata": {},
   "source": [
    "The differences between the means are 13.73 minutes. Knowing that, we'll need to do a hypothesis test to determine is this difference was due to random chance or if they are actually different.\n",
    "<br>\n",
    "**Null Hypothesis**: The differences in ride time means between Registered Riders and Casual Riders are equal.\n",
    "<br>\n",
    "**Alternative Hypothesis**: The difference in ride time means between Registered Riders and Casual Riders are different.\n",
    "<br>\n",
    "**Significance**: 0.05"
   ]
  },
  {
   "cell_type": "code",
   "execution_count": 5,
   "metadata": {},
   "outputs": [
    {
     "name": "stdout",
     "output_type": "stream",
     "text": [
      "0.0\n"
     ]
    }
   ],
   "source": [
    "time_test = stat.ttest_ind(casual, registered, equal_var=False)\n",
    "p_val = time_test[1]\n",
    "print(p_val)"
   ]
  },
  {
   "cell_type": "markdown",
   "metadata": {},
   "source": [
    "With this result (p-value < 0.00001), we can reject the null hypothesis that the two means between registered riders and casual riders are equal. We can argue that the means are different and that the type of rider might effect the ride time."
   ]
  },
  {
   "cell_type": "markdown",
   "metadata": {},
   "source": [
    "## Seasonal Ride Times\n",
    "The next question to ask is if the season effects the ride time. By just looking at the differences in means for each of the different seasons shows that there is a difference of roughly 1 to 3 minutes"
   ]
  },
  {
   "cell_type": "code",
   "execution_count": 35,
   "metadata": {},
   "outputs": [
    {
     "name": "stdout",
     "output_type": "stream",
     "text": [
      "The mean ride time for the spring is 12.34 minutes.\n",
      "The mean ride time for the summer is 15.21 minutes.\n",
      "The mean ride time for the fall is 14.8 minutes.\n",
      "The mean ride time for the winter is 13.27 minutes.\n"
     ]
    }
   ],
   "source": [
    "spring = bikeshare[bikeshare['season'] == 1]['time_diff']\n",
    "summer = bikeshare[bikeshare['season'] == 2]['time_diff']\n",
    "fall = bikeshare[bikeshare['season'] == 3]['time_diff']\n",
    "winter = bikeshare[bikeshare['season'] == 4]['time_diff']\n",
    "\n",
    "spring_mean = np.mean(spring)\n",
    "summer_mean = np.mean(summer)\n",
    "fall_mean = np.mean(fall)\n",
    "winter_mean = np.mean(winter)\n",
    "\n",
    "print('The mean ride time for the spring is ' + str(round(spring_mean, 2)) + ' minutes.')\n",
    "print('The mean ride time for the summer is ' + str(round(summer_mean, 2)) + ' minutes.')\n",
    "print('The mean ride time for the fall is ' + str(round(fall_mean, 2)) + ' minutes.')\n",
    "print('The mean ride time for the winter is ' + str(round(winter_mean, 2)) + ' minutes.')"
   ]
  },
  {
   "cell_type": "markdown",
   "metadata": {},
   "source": [
    "A hypothesis test, using the Analysis of Variance (ANOVA) test, is the best way to determine if these means are by chance or if the mean are actually different.\n",
    "<br>\n",
    "**Null Hypothesis**: The mean ride time for the 4 different seasons are not different.\n",
    "<br>\n",
    "**Alternative Hypothesis**: The mean ride time for the different seasons are different.\n",
    "<br>\n",
    "**Significance**: 0.05"
   ]
  },
  {
   "cell_type": "code",
   "execution_count": 6,
   "metadata": {},
   "outputs": [
    {
     "data": {
      "text/plain": [
       "0.0"
      ]
     },
     "execution_count": 6,
     "metadata": {},
     "output_type": "execute_result"
    }
   ],
   "source": [
    "season = stat.f_oneway(spring, summer, fall, winter)\n",
    "p_val_season = season[1]\n",
    "p_val_season"
   ]
  },
  {
   "cell_type": "markdown",
   "metadata": {},
   "source": [
    "The p-value for this ANOVA is very low (less than 0.00000001) so we can reject the null hypothesis and conclude that there are differences in the mean ride time for the 4 different seasons. In order to determine which of the means are different, more hypothesis tests should be completed, using the Student's T Test. Because multiple t-tests will be done, the normal significance will of 0.05 will need to be lowered due to significance being lost. The new significance level for these tests is \n",
    "<br>\n",
    "<br>\n",
    "**Null Hypothesis (For each test)**: The mean ride time between 2 seasons are not different.\n",
    "<br>\n",
    "**Alternative Hypothesis (For each test)**: The mean ride time between 2 seasons are different.\n",
    "<br>\n",
    "**Significance**: "
   ]
  },
  {
   "cell_type": "code",
   "execution_count": 34,
   "metadata": {},
   "outputs": [
    {
     "name": "stdout",
     "output_type": "stream",
     "text": [
      "The p-value for the difference between the ride times between spring and summer is 0.0.\n",
      "The p-value for the difference between the ride times between spring and summer is 0.0.\n",
      "The p-value for the difference between the ride times between spring and summer is 2.78861876229e-272.\n",
      "The p-value for the difference between the ride times between spring and summer is 2.01962674215e-48.\n",
      "The p-value for the difference between the ride times between spring and summer is 0.0.\n",
      "The p-value for the difference between the ride times between spring and summer is 0.0.\n"
     ]
    }
   ],
   "source": [
    "spring_summer = stat.ttest_ind(spring, summer, equal_var=False)\n",
    "spring_summer_p = spring_summer[1]\n",
    "\n",
    "spring_fall = stat.ttest_ind(spring, fall, equal_var=False)\n",
    "spring_fall_p = spring_fall[1]\n",
    "\n",
    "spring_winter = stat.ttest_ind(spring, winter, equal_var=False)\n",
    "spring_winter_p = spring_winter[1]\n",
    "\n",
    "summer_fall = stat.ttest_ind(summer, fall, equal_var=False)\n",
    "summer_fall_p = summer_fall[1]\n",
    "\n",
    "summer_winter = stat.ttest_ind(summer, winter, equal_var=False)\n",
    "summer_winter_p = summer_winter[1]\n",
    "\n",
    "fall_winter = stat.ttest_ind(fall, winter, equal_var=False)\n",
    "fall_winter_p = fall_winter[1]\n",
    "\n",
    "print('The p-value for the difference between the ride times between spring and summer is ' + str(spring_summer_p) + '.')\n",
    "print('The p-value for the difference between the ride times between spring and summer is ' + str(spring_fall_p) + '.')\n",
    "print('The p-value for the difference between the ride times between spring and summer is ' + str(spring_winter_p) + '.')\n",
    "print('The p-value for the difference between the ride times between spring and summer is ' + str(summer_fall_p) + '.')\n",
    "print('The p-value for the difference between the ride times between spring and summer is ' + str(summer_winter_p) + '.')\n",
    "print('The p-value for the difference between the ride times between spring and summer is ' + str(fall_winter_p) + '.')"
   ]
  },
  {
   "cell_type": "markdown",
   "metadata": {},
   "source": [
    "In each t-test for the difference between seasons, the p-values are extremely low or roughly equal to 0.0. For each case, we can reject null hypothesis and claim that there are differences between each of the 4 seasons."
   ]
  },
  {
   "cell_type": "markdown",
   "metadata": {},
   "source": [
    "# Seasonal Ride Times: Casual vs Registered\n",
    "In the hypothesis above, we determined that the mean ride time is different when factoring in the season. What happens when we factor in season and the member type (casual vs. registered)? Are the ride times different within the each season when broken down by the member type?"
   ]
  },
  {
   "cell_type": "code",
   "execution_count": 37,
   "metadata": {},
   "outputs": [
    {
     "name": "stdout",
     "output_type": "stream",
     "text": [
      "The difference in ride times in the spring for registered and casual riders is 14.41 minutes.\n",
      "The difference in ride times in the summer for registered and casual riders is 13.79 minutes.\n",
      "The difference in ride times in the fall for registered and casual riders is 13.05 minutes.\n",
      "The difference in ride times in the winter for registered and casual riders is 13.41 minutes.\n"
     ]
    }
   ],
   "source": [
    "casual_spring = bikeshare[(bikeshare['Member Type'] == 'Casual') & (bikeshare['season'] == 1)]['time_diff']\n",
    "casual_summer = bikeshare[(bikeshare['Member Type'] == 'Casual') & (bikeshare['season'] == 2)]['time_diff']\n",
    "casual_fall = bikeshare[(bikeshare['Member Type'] == 'Casual') & (bikeshare['season'] == 3)]['time_diff']\n",
    "casual_winter = bikeshare[(bikeshare['Member Type'] == 'Casual') & (bikeshare['season'] == 4)]['time_diff']\n",
    "registered_spring = bikeshare[(bikeshare['Member Type'] == 'Registered') & (bikeshare['season'] == 1)]['time_diff']\n",
    "registered_summer = bikeshare[(bikeshare['Member Type'] == 'Registered') & (bikeshare['season'] == 2)]['time_diff']\n",
    "registered_fall = bikeshare[(bikeshare['Member Type'] == 'Registered') & (bikeshare['season'] == 3)]['time_diff']\n",
    "registered_winter = bikeshare[(bikeshare['Member Type'] == 'Registered') & (bikeshare['season'] == 4)]['time_diff']\n",
    "\n",
    "mean_casual_spring = np.mean(casual_spring)\n",
    "mean_reg_spring = np.mean(registered_spring)\n",
    "print('The difference in ride times in the spring for registered and casual riders is ' + \n",
    "      str(round(mean_casual_spring - mean_reg_spring, 2)) + ' minutes.')\n",
    "\n",
    "mean_casual_summer = np.mean(casual_summer)\n",
    "mean_reg_summer = np.mean(registered_summer)\n",
    "print('The difference in ride times in the summer for registered and casual riders is ' + \n",
    "      str(round(mean_casual_summer - mean_reg_summer, 2)) + ' minutes.')\n",
    "\n",
    "mean_casual_fall = np.mean(casual_fall)\n",
    "mean_reg_fall = np.mean(registered_fall)\n",
    "print('The difference in ride times in the fall for registered and casual riders is ' + \n",
    "      str(round(mean_casual_fall - mean_reg_fall, 2)) + ' minutes.')\n",
    "\n",
    "mean_casual_winter = np.mean(casual_winter)\n",
    "mean_reg_winter = np.mean(registered_winter)\n",
    "print('The difference in ride times in the winter for registered and casual riders is ' + \n",
    "      str(round(mean_casual_winter - mean_reg_winter, 2)) + ' minutes.')"
   ]
  },
  {
   "cell_type": "markdown",
   "metadata": {},
   "source": [
    "In looking at the differences within each season, the mean ride time is higher for casual riders and registered riders is between 13-15 minutes, which is about the same for overall ride times between the two groups. However, just looking at these differences does not actually prove that the differences are significant. A hypothesis test, using the Student's T Test, is needed to prove that these differences are not just by chance. \n",
    "<br>\n",
    "<br>\n",
    "**Null Hypothesis (For each test)**: The mean ride time between casual and registered riders within the same season are not different.\n",
    "<br>\n",
    "**Alternative Hypothesis (For each test)**: The mean ride time between casual and registered riders within the same season are different.\n",
    "<br>\n",
    "**Significance**: 0.05"
   ]
  },
  {
   "cell_type": "code",
   "execution_count": 38,
   "metadata": {},
   "outputs": [
    {
     "name": "stdout",
     "output_type": "stream",
     "text": [
      "The p-value for the t-test of mean ride times between registered and casual riders in spring is 0.0\n",
      "The p-value for the t-test of mean ride times between registered and casual riders in summer is 0.0\n",
      "The p-value for the t-test of mean ride times between registered and casual riders in fall is 0.0\n",
      "The p-value for the t-test of mean ride times between registered and casual riders in winter is 0.0\n"
     ]
    }
   ],
   "source": [
    "reg_cas_spring = stat.ttest_ind(casual_spring, registered_spring, equal_var=False)\n",
    "reg_cas_spring_p = reg_cas_spring[1]\n",
    "\n",
    "reg_cas_summer = stat.ttest_ind(casual_summer, registered_summer, equal_var=False)\n",
    "reg_cas_summer_p = reg_cas_summer[1]\n",
    "\n",
    "reg_cas_fall = stat.ttest_ind(casual_fall, registered_fall, equal_var=False)\n",
    "reg_cas_fall_p = reg_cas_fall[1]\n",
    "\n",
    "reg_cas_winter = stat.ttest_ind(casual_winter, registered_winter, equal_var=False)\n",
    "reg_cas_winter_p = reg_cas_winter[1]\n",
    "\n",
    "print('The p-value for the t-test of mean ride times between registered and casual riders in spring is ' + \n",
    "      str(reg_cas_spring_p))\n",
    "print('The p-value for the t-test of mean ride times between registered and casual riders in summer is ' + \n",
    "      str(reg_cas_summer_p))\n",
    "print('The p-value for the t-test of mean ride times between registered and casual riders in fall is ' + \n",
    "      str(reg_cas_fall_p))\n",
    "print('The p-value for the t-test of mean ride times between registered and casual riders in winter is ' + \n",
    "      str(reg_cas_winter_p))"
   ]
  },
  {
   "cell_type": "markdown",
   "metadata": {},
   "source": [
    "The p-values for the tests were all roughly 0.0 so we can reject the null hypotheses that the means were equal. We can conclude that the means between registered riders and casual riders are different in each of the 4 seasons."
   ]
  },
  {
   "cell_type": "markdown",
   "metadata": {},
   "source": [
    "## Weather Category\n",
    "The next tests done were to determine if there were differences in mean ride times based on the type of weather. Categories for the weather are sunny, cloudy/misty, and rainy/stormy. "
   ]
  },
  {
   "cell_type": "code",
   "execution_count": 41,
   "metadata": {},
   "outputs": [
    {
     "name": "stdout",
     "output_type": "stream",
     "text": [
      "The mean ride time for sunny weather is 14.25 minutes.\n",
      "The mean ride time for cloudy/misty weather is 13.65 minutes.\n",
      "The mean ride time for rainy/stormy weather is 10.95 minutes.\n"
     ]
    }
   ],
   "source": [
    "sunny = bikeshare[bikeshare['weathersit'] == 1]['time_diff']\n",
    "less_sunny = bikeshare[bikeshare['weathersit'] == 2]['time_diff']\n",
    "lousy = bikeshare[bikeshare['weathersit'] == 3]['time_diff']\n",
    "\n",
    "sunny_mean = np.mean(sunny)\n",
    "less_sunny_mean = np.mean(less_sunny)\n",
    "lousy_mean = np.mean(lousy)\n",
    "\n",
    "print('The mean ride time for sunny weather is ' + str(round(sunny_mean, 2)) + ' minutes.')\n",
    "print('The mean ride time for cloudy/misty weather is ' + str(round(less_sunny_mean, 2)) + ' minutes.')\n",
    "print('The mean ride time for rainy/stormy weather is ' + str(round(lousy_mean, 2)) + ' minutes.')"
   ]
  },
  {
   "cell_type": "markdown",
   "metadata": {},
   "source": [
    "The differences in means based on the weather are between 1-4 minutes, which is roughly the same as the differences for the mean ride times for the different seasons. A hypothesis test, using ANOVA, will be conducted to determine if there are actual differences or if the differences happened by chance.\n",
    "<br>\n",
    "<br>\n",
    "**Null Hypothesis**: The mean ride time for the 3 different weather categories are not different.\n",
    "<br>\n",
    "**Alternative Hypothesis**: The mean ride time for the 3 different weather categories are different.\n",
    "<br>\n",
    "**Significance**: 0.05"
   ]
  },
  {
   "cell_type": "code",
   "execution_count": 42,
   "metadata": {},
   "outputs": [
    {
     "name": "stdout",
     "output_type": "stream",
     "text": [
      "The p-value for the ANOVA test of whether mean ride times based on the 3 different weather categories is 0.0\n"
     ]
    }
   ],
   "source": [
    "weather_anova = stat.f_oneway(sunny, less_sunny, lousy)\n",
    "weather_anova_p = weather_anova[1]\n",
    "print('The p-value for the ANOVA test of whether mean ride times based on the 3 different weather categories is ' +\n",
    "      str(weather_anova_p))"
   ]
  },
  {
   "cell_type": "markdown",
   "metadata": {},
   "source": [
    "The p-value in this scenario is roughly equal to 0.0 so we can reject the null hypothesis that there are no differences between the different weather categories. Additional T tests need to be done to determine which means are different.\n",
    "<br>\n",
    "<br>\n",
    "**Null Hypothesis (For each test)**: The mean ride time between the 3 weather categories are not different.\n",
    "<br>\n",
    "**Alternative Hypothesis (For each test)**: The mean ride time between the 3 weather categories are different.\n",
    "<br>\n",
    "**Significance**: "
   ]
  },
  {
   "cell_type": "code",
   "execution_count": 43,
   "metadata": {},
   "outputs": [
    {
     "name": "stdout",
     "output_type": "stream",
     "text": [
      "The p-value for the test between the mean ride times for sunny and cloudy/misty weather is 2.80975478368e-185\n",
      "The p-value for the test between the mean ride times for sunny and rainy/snowy/stormy weather is 0.0\n",
      "The p-value for the test between the mean ride times for cloudy and rainy/snowy/stormy weather is 0.0\n"
     ]
    }
   ],
   "source": [
    "sunny_less = stat.ttest_ind(sunny, less_sunny, equal_var=False)\n",
    "sunny_less_p = sunny_less[1]\n",
    "\n",
    "sunny_lousy = stat.ttest_ind(sunny, lousy, equal_var=False)\n",
    "sunny_lousy_p = sunny_lousy[1]\n",
    "\n",
    "less_lousy = stat.ttest_ind(less_sunny, lousy, equal_var=False)\n",
    "less_lousy_p = less_lousy[1]\n",
    "\n",
    "print('The p-value for the test between the mean ride times for sunny and cloudy/misty weather is ' + str(sunny_less_p))\n",
    "print('The p-value for the test between the mean ride times for sunny and rainy/snowy/stormy weather is ' + str(sunny_lousy_p))\n",
    "print('The p-value for the test between the mean ride times for cloudy and rainy/snowy/stormy weather is ' + str(less_lousy_p))"
   ]
  },
  {
   "cell_type": "markdown",
   "metadata": {},
   "source": [
    "The p-values for each scenario are relatively close to 0.0 or are 0.0, so we can reject the null hypotheses that the means are the same for each of the different categories. "
   ]
  },
  {
   "cell_type": "markdown",
   "metadata": {},
   "source": [
    "## Weather Category: Casual vs Registered\n",
    "In the test above, we determined that there are differences between the ride times based on the different weather categories. The next set of tests show what happens when the member type is factored into the weather categories."
   ]
  },
  {
   "cell_type": "code",
   "execution_count": 47,
   "metadata": {},
   "outputs": [
    {
     "name": "stdout",
     "output_type": "stream",
     "text": [
      "The difference between mean ride times between casual riders and registered riders on sunny days is 13.86 minutes.\n",
      "The difference between mean ride times between casual riders and registered riders on cloudy/misty days is 13.5 minutes.\n",
      "The difference between mean ride times between casual riders and registered riders on rainy/stormy/snowy days is 8.46 minutes.\n"
     ]
    }
   ],
   "source": [
    "sunny_casual = bikeshare[(bikeshare['weathersit'] == 1) & (bikeshare['Member Type'] == 'Casual')]['time_diff']\n",
    "sunny_reg = bikeshare[(bikeshare['weathersit'] == 1) & (bikeshare['Member Type'] == 'Registered')]['time_diff']\n",
    "sunny_casual_mean = np.mean(sunny_casual)\n",
    "sunny_reg_mean = np.mean(sunny_reg)\n",
    "print('The difference between mean ride times between casual riders and registered riders on sunny days is ' + \n",
    "     str(round(sunny_casual_mean - sunny_reg_mean, 2)) + ' minutes.')\n",
    "\n",
    "less_casual = bikeshare[(bikeshare['weathersit'] == 2) & (bikeshare['Member Type'] == 'Casual')]['time_diff']\n",
    "less_reg = bikeshare[(bikeshare['weathersit'] == 2) & (bikeshare['Member Type'] == 'Registered')]['time_diff']\n",
    "less_casual_mean = np.mean(less_casual)\n",
    "less_reg_mean = np.mean(less_reg)\n",
    "print('The difference between mean ride times between casual riders and registered riders on cloudy/misty days is ' + \n",
    "     str(round(less_casual_mean - less_reg_mean, 2)) + ' minutes.')\n",
    "\n",
    "lousy_casual = bikeshare[(bikeshare['weathersit'] == 3) & (bikeshare['Member Type'] == 'Casual')]['time_diff']\n",
    "lousy_reg = bikeshare[(bikeshare['weathersit'] == 3) & (bikeshare['Member Type'] == 'Registered')]['time_diff']\n",
    "lousy_casual_mean = np.mean(lousy_casual)\n",
    "lousy_reg_mean = np.mean(lousy_reg)\n",
    "print('The difference between mean ride times between casual riders and registered riders on rainy/stormy/snowy days is ' + \n",
    "     str(round(lousy_casual_mean - lousy_reg_mean, 2)) + ' minutes.')"
   ]
  },
  {
   "cell_type": "markdown",
   "metadata": {},
   "source": [
    "The differences in ride times between the member type and weather categories fall between 8.5 and 14 minutes. Hypothesis tests will be done to determine where the differences occur.\n",
    "<br>\n",
    "<br>\n",
    "**Null Hypothesis (For each test)**: The mean ride time between casual and registered riders within the same weather category are not different.\n",
    "<br>\n",
    "**Alternative Hypothesis (For each test)**: The mean ride time between casual and registered riders within the same weather category are different.\n",
    "<br>\n",
    "**Significance**: 0.05"
   ]
  },
  {
   "cell_type": "code",
   "execution_count": 48,
   "metadata": {},
   "outputs": [
    {
     "name": "stdout",
     "output_type": "stream",
     "text": [
      "The p-value for the difference in mean ride times between casual and registered riders on sunny days is 0.0\n",
      "The p-value for the difference in mean ride times between casual and registered riders on cloudy/misty days is 0.0\n",
      "The p-value for the difference in mean ride times between casual and registered riders on rainy/stormy/snowy days is 8.05155049416e-105\n"
     ]
    }
   ],
   "source": [
    "sunny_diff = stat.ttest_ind(sunny_casual, sunny_reg, equal_var=False)\n",
    "sunny_diff_p = sunny_diff[1]\n",
    "\n",
    "less_diff = stat.ttest_ind(less_casual, less_reg, equal_var=False)\n",
    "less_diff_p = less_diff[1]\n",
    "\n",
    "lousy_diff = stat.ttest_ind(lousy_casual, lousy_reg, equal_var=False)\n",
    "lousy_diff_p = lousy_diff[1]\n",
    "\n",
    "print('The p-value for the difference in mean ride times between casual and registered riders on sunny days is ' +\n",
    "      str(sunny_diff_p))\n",
    "print('The p-value for the difference in mean ride times between casual and registered riders on cloudy/misty days is ' +\n",
    "      str(less_diff_p))\n",
    "print('The p-value for the difference in mean ride times between casual and registered riders on rainy/stormy/snowy days is ' +\n",
    "      str(lousy_diff_p))"
   ]
  },
  {
   "cell_type": "markdown",
   "metadata": {},
   "source": [
    "The p-values are relatively close to zero, therefore we can reject null hypothesis in favor of the alternative. There are differences in the mean ride times for casual and registered riders based on the weather category."
   ]
  },
  {
   "cell_type": "markdown",
   "metadata": {},
   "source": [
    "## Holiday\n",
    "Based on the visual exploratory analysis done, there seemed to be a difference in average ride times for holidays and non-holidays. The analysis below looks to determine if this difference is by chance or if there is actually a difference."
   ]
  },
  {
   "cell_type": "code",
   "execution_count": 50,
   "metadata": {},
   "outputs": [
    {
     "name": "stdout",
     "output_type": "stream",
     "text": [
      "The difference between the mean ride times for holidays and non-holidays is 1.59 minutes.\n"
     ]
    }
   ],
   "source": [
    "no_holiday = bikeshare[bikeshare['holiday'] == 0]['time_diff']\n",
    "holiday = bikeshare[bikeshare['holiday'] == 1]['time_diff']\n",
    "\n",
    "no_holiday_mean = np.mean(no_holiday)\n",
    "holiday_mean = np.mean(holiday)\n",
    "diff = holiday_mean - no_holiday_mean\n",
    "print('The difference between the mean ride times for holidays and non-holidays is ' + str(round(diff, 2)) + ' minutes.')"
   ]
  },
  {
   "cell_type": "markdown",
   "metadata": {},
   "source": [
    "Although the differences in means is about 1.6 minutes, a hypothesis test needs to be conducted to determine if there actually is a difference in the mean ride times based on holidays and non-holidays.\n",
    "<br>\n",
    "<br>\n",
    "**Null Hypothesis**: The mean ride time for holidays and non-holidays are not different.\n",
    "<br>\n",
    "**Alternative Hypothesis**: The mean ride time for holidays and non-holidays are different.\n",
    "<br>\n",
    "**Significance**: 0.05"
   ]
  },
  {
   "cell_type": "code",
   "execution_count": 53,
   "metadata": {},
   "outputs": [
    {
     "name": "stdout",
     "output_type": "stream",
     "text": [
      "5.94089337013e-98\n"
     ]
    }
   ],
   "source": [
    "holiday_t = stat.ttest_ind(no_holiday, holiday, equal_var=False)\n",
    "holiday_t_p = holiday_t[1]\n",
    "print(holiday_t_p)"
   ]
  },
  {
   "cell_type": "code",
   "execution_count": null,
   "metadata": {
    "collapsed": true
   },
   "outputs": [],
   "source": []
  },
  {
   "cell_type": "markdown",
   "metadata": {},
   "source": [
    "## Holiday: Casual vs Registered\n",
    "How does the member type effect the ride time on holidays and non-holidays? The hypothesis tests below determine whether there are differences."
   ]
  },
  {
   "cell_type": "code",
   "execution_count": 52,
   "metadata": {},
   "outputs": [
    {
     "name": "stdout",
     "output_type": "stream",
     "text": [
      "The difference between mean ride times between member types on a holiday is 13.69 minutes.\n",
      "The difference between mean ride times between member types on non-holidays is 14.74 minutes.\n"
     ]
    }
   ],
   "source": [
    "no_hol_cas = bikeshare[(bikeshare['holiday'] == 0) & (bikeshare['Member Type'] == 'Casual')]['time_diff']\n",
    "no_hol_reg = bikeshare[(bikeshare['holiday'] == 0) & (bikeshare['Member Type'] == 'Registered')]['time_diff']\n",
    "hol_cas = bikeshare[(bikeshare['holiday'] == 1) & (bikeshare['Member Type'] == 'Casual')]['time_diff']\n",
    "hol_reg = bikeshare[(bikeshare['holiday'] == 1) & (bikeshare['Member Type'] == 'Registered')]['time_diff']\n",
    "\n",
    "no_hol_cas_mean = np.mean(no_hol_cas)\n",
    "no_hol_reg_mean = np.mean(no_hol_reg)\n",
    "print('The difference between mean ride times between member types on a holiday is ' + \n",
    "     str(round(no_hol_cas_mean - no_hol_reg_mean, 2)) + ' minutes.')\n",
    "\n",
    "hol_cas_mean = np.mean(hol_cas)\n",
    "hol_reg_mean = np.mean(hol_reg)\n",
    "print('The difference between mean ride times between member types on non-holidays is ' + \n",
    "     str(round(hol_cas_mean - hol_reg_mean, 2)) + ' minutes.')"
   ]
  },
  {
   "cell_type": "code",
   "execution_count": null,
   "metadata": {
    "collapsed": true
   },
   "outputs": [],
   "source": []
  },
  {
   "cell_type": "code",
   "execution_count": 17,
   "metadata": {},
   "outputs": [
    {
     "name": "stdout",
     "output_type": "stream",
     "text": [
      "0.0\n",
      "0.0\n"
     ]
    }
   ],
   "source": [
    "no_hol_t = stat.ttest_ind(no_hol_cas, no_hol_reg, equal_var=False)\n",
    "no_hol_t_p = no_hol_t[1]\n",
    "\n",
    "hol_t = stat.ttest_ind(hol_cas, hol_reg, equal_var=False)\n",
    "hol_t_p = hol_t[1]\n",
    "\n",
    "print(no_hol_t_p)\n",
    "print(hol_t_p)"
   ]
  },
  {
   "cell_type": "markdown",
   "metadata": {},
   "source": [
    "## Workday"
   ]
  },
  {
   "cell_type": "code",
   "execution_count": 18,
   "metadata": {
    "collapsed": true
   },
   "outputs": [],
   "source": [
    "workday = bikeshare[bikeshare['workingday'] == 1]['time_diff']\n",
    "no_workday = bikeshare[bikeshare['workingday'] == 0]['time_diff']\n"
   ]
  },
  {
   "cell_type": "code",
   "execution_count": 19,
   "metadata": {},
   "outputs": [
    {
     "name": "stdout",
     "output_type": "stream",
     "text": [
      "0.0\n"
     ]
    }
   ],
   "source": [
    "workday_t = stat.ttest_ind(workday, no_workday, equal_var=False)\n",
    "workday_t_p = workday_t[1]\n",
    "\n",
    "print(workday_t_p)"
   ]
  },
  {
   "cell_type": "code",
   "execution_count": null,
   "metadata": {
    "collapsed": true
   },
   "outputs": [],
   "source": []
  },
  {
   "cell_type": "markdown",
   "metadata": {},
   "source": [
    "## Workday: Registered vs Casual"
   ]
  },
  {
   "cell_type": "code",
   "execution_count": 20,
   "metadata": {
    "collapsed": true
   },
   "outputs": [],
   "source": [
    "no_work_cas = bikeshare[(bikeshare['workingday'] == 0) & (bikeshare['Member Type'] == 'Casual')]['time_diff']\n",
    "no_work_reg = bikeshare[(bikeshare['workingday'] == 0) & (bikeshare['Member Type'] == 'Registered')]['time_diff']\n",
    "work_cas = bikeshare[(bikeshare['workingday'] == 1) & (bikeshare['Member Type'] == 'Casual')]['time_diff']\n",
    "work_reg = bikeshare[(bikeshare['workingday'] == 1) & (bikeshare['Member Type'] == 'Registered')]['time_diff']"
   ]
  },
  {
   "cell_type": "code",
   "execution_count": 21,
   "metadata": {},
   "outputs": [
    {
     "name": "stdout",
     "output_type": "stream",
     "text": [
      "0.0\n",
      "0.0\n"
     ]
    }
   ],
   "source": [
    "no_working = stat.ttest_ind(no_work_cas, no_work_reg, equal_var=False)\n",
    "no_working_p = no_working[1]\n",
    "\n",
    "working_t = stat.ttest_ind(work_cas, work_reg, equal_var=False)\n",
    "working_t_p = working_t[1]\n",
    "\n",
    "print(no_working_p)\n",
    "print(working_t_p)"
   ]
  },
  {
   "cell_type": "markdown",
   "metadata": {},
   "source": [
    "## Ride Times vs. Temperature"
   ]
  },
  {
   "cell_type": "code",
   "execution_count": 22,
   "metadata": {},
   "outputs": [
    {
     "data": {
      "text/plain": [
       "0.095882386933345623"
      ]
     },
     "execution_count": 22,
     "metadata": {},
     "output_type": "execute_result"
    }
   ],
   "source": [
    "time_temp = np.corrcoef(bikeshare['temp'], bikeshare['time_diff'])\n",
    "time_temp[0,1]"
   ]
  },
  {
   "cell_type": "code",
   "execution_count": 23,
   "metadata": {
    "collapsed": true
   },
   "outputs": [],
   "source": [
    "casual_corr = bikeshare[bikeshare['Member Type'] == 'Casual']\n",
    "registered_corr = bikeshare[bikeshare['Member Type'] == 'Registered']"
   ]
  },
  {
   "cell_type": "code",
   "execution_count": 24,
   "metadata": {},
   "outputs": [
    {
     "data": {
      "text/plain": [
       "0.0076346430014268855"
      ]
     },
     "execution_count": 24,
     "metadata": {},
     "output_type": "execute_result"
    }
   ],
   "source": [
    "time_temp_cas = np.corrcoef(casual_corr['temp'], casual_corr['time_diff'])\n",
    "time_temp_cas[0,1]"
   ]
  },
  {
   "cell_type": "code",
   "execution_count": 25,
   "metadata": {},
   "outputs": [
    {
     "data": {
      "text/plain": [
       "0.083729130500907911"
      ]
     },
     "execution_count": 25,
     "metadata": {},
     "output_type": "execute_result"
    }
   ],
   "source": [
    "time_temp_reg = np.corrcoef(registered_corr['temp'], registered_corr['time_diff'])\n",
    "time_temp_reg[0,1]"
   ]
  },
  {
   "cell_type": "markdown",
   "metadata": {},
   "source": [
    "## Ride Times vs. Humidity"
   ]
  },
  {
   "cell_type": "code",
   "execution_count": 26,
   "metadata": {},
   "outputs": [
    {
     "data": {
      "text/plain": [
       "0.008031838150257169"
      ]
     },
     "execution_count": 26,
     "metadata": {},
     "output_type": "execute_result"
    }
   ],
   "source": [
    "time_hum = np.corrcoef(bikeshare['hum'], bikeshare['time_diff'])\n",
    "time_hum[0,1]"
   ]
  },
  {
   "cell_type": "code",
   "execution_count": 27,
   "metadata": {},
   "outputs": [
    {
     "data": {
      "text/plain": [
       "-0.0041247100896568334"
      ]
     },
     "execution_count": 27,
     "metadata": {},
     "output_type": "execute_result"
    }
   ],
   "source": [
    "time_hum_cas = np.corrcoef(casual_corr['hum'], casual_corr['time_diff'])\n",
    "time_hum_cas[0,1]"
   ]
  },
  {
   "cell_type": "code",
   "execution_count": 28,
   "metadata": {},
   "outputs": [
    {
     "data": {
      "text/plain": [
       "0.0018546164180973683"
      ]
     },
     "execution_count": 28,
     "metadata": {},
     "output_type": "execute_result"
    }
   ],
   "source": [
    "time_hum_reg = np.corrcoef(registered_corr['hum'], registered_corr['time_diff'])\n",
    "time_hum_reg[0,1]"
   ]
  },
  {
   "cell_type": "markdown",
   "metadata": {},
   "source": [
    "## Ride Times vs Wind Speed"
   ]
  },
  {
   "cell_type": "code",
   "execution_count": 29,
   "metadata": {},
   "outputs": [
    {
     "data": {
      "text/plain": [
       "-0.031826321312461395"
      ]
     },
     "execution_count": 29,
     "metadata": {},
     "output_type": "execute_result"
    }
   ],
   "source": [
    "time_wind = np.corrcoef(bikeshare['windspeed'], bikeshare['time_diff'])\n",
    "time_wind[0,1]"
   ]
  },
  {
   "cell_type": "code",
   "execution_count": 30,
   "metadata": {},
   "outputs": [
    {
     "data": {
      "text/plain": [
       "-0.011978496978161309"
      ]
     },
     "execution_count": 30,
     "metadata": {},
     "output_type": "execute_result"
    }
   ],
   "source": [
    "time_wind_cas = np.corrcoef(casual_corr['windspeed'], casual_corr['time_diff'])\n",
    "time_wind_cas[0,1]"
   ]
  },
  {
   "cell_type": "code",
   "execution_count": 31,
   "metadata": {},
   "outputs": [
    {
     "data": {
      "text/plain": [
       "-0.01943016317449368"
      ]
     },
     "execution_count": 31,
     "metadata": {},
     "output_type": "execute_result"
    }
   ],
   "source": [
    "time_wind_reg = np.corrcoef(registered_corr['windspeed'], registered_corr['time_diff'])\n",
    "time_wind_reg[0,1]"
   ]
  },
  {
   "cell_type": "code",
   "execution_count": null,
   "metadata": {
    "collapsed": true
   },
   "outputs": [],
   "source": []
  }
 ],
 "metadata": {
  "kernelspec": {
   "display_name": "Python 3",
   "language": "python",
   "name": "python3"
  },
  "language_info": {
   "codemirror_mode": {
    "name": "ipython",
    "version": 3
   },
   "file_extension": ".py",
   "mimetype": "text/x-python",
   "name": "python",
   "nbconvert_exporter": "python",
   "pygments_lexer": "ipython3",
   "version": "3.6.2"
  }
 },
 "nbformat": 4,
 "nbformat_minor": 2
}
